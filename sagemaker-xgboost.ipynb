{
 "cells": [
  {
   "cell_type": "code",
   "execution_count": null,
   "metadata": {},
   "outputs": [],
   "source": [
    "from sagemaker.xgboost.estimator import XGBoost\n",
    "from sagemaker.session import Session\n",
    "from sagemaker.tuner import (\n",
    "    ContinuousParameter,\n",
    "    HyperparameterTuner,\n",
    ")\n",
    "\n",
    "bucket = \"BUCKET_NAME\"\n",
    "project_path = \"jonas/abalone\"\n",
    "output_path = f\"s3://{bucket}/{project_path}/output\"\n",
    "\n",
    "sagemaker_session = Session()\n",
    "train = sagemaker_session.upload_data(\"local/data\", bucket=bucket, key_prefix='jonas/abalone/train', extra_args=None)\n",
    "source_dir = sagemaker_session.upload_data(\"script\", bucket=bucket, key_prefix='jonas/abalone/script', extra_args=None)\n",
    "\n",
    "K = 5\n",
    "hyperparams = {\n",
    "    \"eta\": 0.1,\n",
    "    \"num_class\": 30,\n",
    "    \"num_round\": 20,\n",
    "    \"objective\": \"multi:softprob\",\n",
    "    \"hite_rate_k\": K\n",
    "}\n",
    "\n",
    "estimator = XGBoost(\n",
    "    entry_point=\"train.py\",\n",
    "    source_dir=source_dir,\n",
    "    hyperparameters=hyperparams,\n",
    "    role=\"AML-SageMakerRole\",\n",
    "    instance_count=1,\n",
    "    instance_type=\"ml.m5.large\",\n",
    "    framework_version=\"1.3-1\",\n",
    "    output_path=output_path,\n",
    "    sagemaker_session=sagemaker_session\n",
    ")\n",
    "\n",
    "\n",
    "tuner = HyperparameterTuner(\n",
    "    estimator=estimator,\n",
    "    objective_metric_name=f'validation:hit_rate_at_{K}',\n",
    "    hyperparameter_ranges={\n",
    "        \"eta\": ContinuousParameter(0, 0.3)\n",
    "    },\n",
    "    metric_definitions=[\n",
    "        {'Name': f'validation:hit_rate_at_{K}', 'Regex': '(validation-hit_rate_at_\\d):(\\d+(?:\\.\\d+)?)'}\n",
    "    ],\n",
    "    max_jobs=2,\n",
    "    max_parallel_jobs=2\n",
    ")\n",
    "\n",
    "tuner.fit(\n",
    "    inputs = {\n",
    "        \"train\": train,\n",
    "        \"validation\": train\n",
    "    }\n",
    ")\n"
   ]
  }
 ],
 "metadata": {
  "interpreter": {
   "hash": "670af9df94a7b9ac98784b0d3088ad07699a16e021c1767c4a8e3166f909647a"
  },
  "kernelspec": {
   "display_name": "Python 3.8.12 64-bit ('sagemaker_sdk_py38': conda)",
   "language": "python",
   "name": "python3"
  },
  "language_info": {
   "codemirror_mode": {
    "name": "ipython",
    "version": 3
   },
   "file_extension": ".py",
   "mimetype": "text/x-python",
   "name": "python",
   "nbconvert_exporter": "python",
   "pygments_lexer": "ipython3",
   "version": "3.8.12"
  },
  "orig_nbformat": 4
 },
 "nbformat": 4,
 "nbformat_minor": 2
}
