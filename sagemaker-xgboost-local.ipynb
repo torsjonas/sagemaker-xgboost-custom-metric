{
 "cells": [
  {
   "cell_type": "code",
   "execution_count": null,
   "metadata": {},
   "outputs": [],
   "source": [
    "import logging\n",
    "from sagemaker.xgboost.estimator import XGBoost\n",
    "from sagemaker.local import LocalSession\n",
    "\n",
    "#No need to be signed in (eg.g. SSO) when using LocalSession local code mode\n",
    "sagemaker_session = LocalSession()\n",
    "sagemaker_session.config = {'local': {'local_code': True}}\n",
    "DUMMY_IAM_ROLE = 'arn:aws:iam::999999999999:role/dummy-role/AmazonSageMaker-ExecutionRole-20000101T000000'\n",
    "\n",
    "train = \"file://local/data\"\n",
    "validation = \"file://local/data\"\n",
    "output = \"file:///tmp/sagemaker-xgboost-local\"\n",
    "\n",
    "hyperparams = {\n",
    "    \"eta\": 0.1,\n",
    "    \"num_class\": 30,\n",
    "    \"num_round\": 20,\n",
    "    \"objective\": \"multi:softprob\",\n",
    "    \"hite_rate_k\": 5\n",
    "}\n",
    "\n",
    "estimator = XGBoost(\n",
    "    entry_point=\"train.py\",\n",
    "    hyperparameters=hyperparams,\n",
    "    role=DUMMY_IAM_ROLE,\n",
    "    instance_count=1,\n",
    "    instance_type=\"local\",\n",
    "    framework_version=\"1.3-1\",\n",
    "    output_path=output,\n",
    "    sagemaker_session=sagemaker_session\n",
    ")\n",
    "\n",
    "estimator.fit(\n",
    "    inputs = {\n",
    "        \"train\": train,\n",
    "        \"validation\": validation\n",
    "    }\n",
    ")\n",
    "\n",
    "# since the train.py also includes the code to load the model during inference\n",
    "# we can deploy the estimator locally immediatelly, it knows where the model.tar.gz exists.\n",
    "# Training and inference \n",
    "predictor = estimator.deploy(\n",
    "    initial_instance_count=1, \n",
    "    instance_type='local'\n",
    ")\n",
    "\n",
    "payload = '1, 0.455, 0.365, 0.095, 0.514, 0.2245, 0.101, 0.15'\n",
    "preds = predictor.predict(payload)\n",
    "\n",
    "logging.info(f\"prediction: {preds}\")\n"
   ]
  }
 ],
 "metadata": {
  "interpreter": {
   "hash": "670af9df94a7b9ac98784b0d3088ad07699a16e021c1767c4a8e3166f909647a"
  },
  "kernelspec": {
   "display_name": "Python 3.8.12 64-bit ('sagemaker_sdk_py38': conda)",
   "language": "python",
   "name": "python3"
  },
  "language_info": {
   "codemirror_mode": {
    "name": "ipython",
    "version": 3
   },
   "file_extension": ".py",
   "mimetype": "text/x-python",
   "name": "python",
   "nbconvert_exporter": "python",
   "pygments_lexer": "ipython3",
   "version": "3.8.12"
  },
  "orig_nbformat": 4
 },
 "nbformat": 4,
 "nbformat_minor": 2
}
